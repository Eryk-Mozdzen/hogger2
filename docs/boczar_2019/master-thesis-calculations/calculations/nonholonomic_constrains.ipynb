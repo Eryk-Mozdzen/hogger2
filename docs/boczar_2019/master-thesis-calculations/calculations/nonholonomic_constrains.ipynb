{
 "cells": [
  {
   "cell_type": "code",
   "execution_count": 1,
   "metadata": {},
   "outputs": [
    {
     "name": "stdout",
     "output_type": "stream",
     "text": [
      "IPython console for SymPy 1.3 (Python 3.7.2-64-bit) (ground types: gmpy)\n",
      "\n",
      "These commands were executed:\n",
      ">>> from __future__ import division\n",
      ">>> from sympy import *\n",
      ">>> x, y, z, t = symbols('x y z t')\n",
      ">>> k, m, n = symbols('k m n', integer=True)\n",
      ">>> f, g, h = symbols('f g h', cls=Function)\n",
      ">>> init_printing()\n",
      "\n",
      "Documentation can be found at http://docs.sympy.org/1.3/\n",
      "\n"
     ]
    }
   ],
   "source": [
    "import pickle\n",
    "\n",
    "import sympy\n",
    "from sympy.physics.vector import dynamicsymbols\n",
    "import sympy_utils\n",
    "from sympy_utils import short_latex, ShortLatexPrinter, matsym, vec, dynvec\n",
    "\n",
    "sympy.init_session(latex_printer=short_latex)"
   ]
  },
  {
   "cell_type": "code",
   "execution_count": 2,
   "metadata": {},
   "outputs": [],
   "source": [
    "from model import get_A, get_generators"
   ]
  },
  {
   "cell_type": "code",
   "execution_count": 3,
   "metadata": {},
   "outputs": [
    {
     "data": {
      "text/latex": [
       "$$\\left[\\begin{matrix}- c_{\\theta_{0}} & - s_{\\theta_{0}} & 0 & 0 & R c_{\\phi_{1}} & - R s_{\\phi_{1}} c_{\\theta_{1}} & 0 & 0 & 0\\\\s_{\\theta_{0}} & - c_{\\theta_{0}} & 0 & - R & 0 & - R s_{\\theta_{1}} & 0 & 0 & 0\\\\- c_{\\theta_{0}} & - s_{\\theta_{0}} & - 2 l & 0 & 0 & 0 & 0 & R c_{\\phi_{2}} & - R s_{\\phi_{2}} c_{\\theta_{2}}\\\\s_{\\theta_{0}} & - c_{\\theta_{0}} & 0 & 0 & 0 & 0 & - R & 0 & - R s_{\\theta_{2}}\\end{matrix}\\right] \\dot{q} = 0$$"
      ],
      "text/plain": [
       "⎡-cos(θ₀(t))  -sin(θ₀(t))   0    0   R⋅cos(φ₁(t))  -R⋅sin(φ₁(t))⋅cos(θ₁(t))  0\n",
       "⎢                                                                             \n",
       "⎢sin(θ₀(t))   -cos(θ₀(t))   0    -R       0             -R⋅sin(θ₁(t))        0\n",
       "⎢                                                                             \n",
       "⎢-cos(θ₀(t))  -sin(θ₀(t))  -2⋅l  0        0                   0              0\n",
       "⎢                                                                             \n",
       "⎣sin(θ₀(t))   -cos(θ₀(t))   0    0        0                   0              -\n",
       "\n",
       "        0                   0            ⎤            \n",
       "                                         ⎥            \n",
       "        0                   0            ⎥            \n",
       "                                         ⎥⋅\\dot{q} = 0\n",
       "   R⋅cos(φ₂(t))  -R⋅sin(φ₂(t))⋅cos(θ₂(t))⎥            \n",
       "                                         ⎥            \n",
       "R       0             -R⋅sin(θ₂(t))      ⎦            "
      ]
     },
     "execution_count": 3,
     "metadata": {},
     "output_type": "execute_result"
    }
   ],
   "source": [
    "# nonholonomic constrains\n",
    "A = get_A()\n",
    "\n",
    "pfaff_form = Eq(A * matsym('\\dot{q}', zeros(9, 1)), matsym('0', zeros(4, 1)))\n",
    "pfaff_form"
   ]
  },
  {
   "cell_type": "code",
   "execution_count": 4,
   "metadata": {},
   "outputs": [
    {
     "data": {
      "text/latex": [
       "$$\\left [ \\left[\\begin{matrix}R c_{\\phi_{1}} c_{\\theta_{0}}\\\\R s_{\\theta_{0}} c_{\\phi_{1}}\\\\- \\frac{R c_{\\phi_{1}}}{2 l}\\\\0\\\\1\\\\0\\\\0\\\\0\\\\0\\end{matrix}\\right], \\quad \\left[\\begin{matrix}- R s_{\\phi_{1}} c_{\\theta_{0}} c_{\\theta_{1}}\\\\- R s_{\\phi_{1}} s_{\\theta_{0}} c_{\\theta_{1}}\\\\\\frac{R s_{\\phi_{1}} c_{\\theta_{1}}}{2 l}\\\\- s_{\\theta_{1}}\\\\0\\\\1\\\\0\\\\0\\\\0\\end{matrix}\\right], \\quad \\left[\\begin{matrix}R s_{\\theta_{0}}\\\\- R c_{\\theta_{0}}\\\\0\\\\1\\\\0\\\\0\\\\1\\\\0\\\\0\\end{matrix}\\right], \\quad \\left[\\begin{matrix}0\\\\0\\\\\\frac{R c_{\\phi_{2}}}{2 l}\\\\0\\\\0\\\\0\\\\0\\\\1\\\\0\\end{matrix}\\right], \\quad \\left[\\begin{matrix}R s_{\\theta_{0}} s_{\\theta_{2}}\\\\- R s_{\\theta_{2}} c_{\\theta_{0}}\\\\- \\frac{R s_{\\phi_{2}} c_{\\theta_{2}}}{2 l}\\\\s_{\\theta_{2}}\\\\0\\\\0\\\\0\\\\0\\\\1\\end{matrix}\\right]\\right ]$$"
      ],
      "text/plain": [
       "⎡⎡R⋅cos(φ₁(t))⋅cos(θ₀(t))⎤  ⎡-R⋅sin(φ₁(t))⋅cos(θ₀(t))⋅cos(θ₁(t))⎤             \n",
       "⎢⎢                       ⎥  ⎢                                   ⎥  ⎡R⋅sin(θ₀(t\n",
       "⎢⎢R⋅sin(θ₀(t))⋅cos(φ₁(t))⎥  ⎢-R⋅sin(φ₁(t))⋅sin(θ₀(t))⋅cos(θ₁(t))⎥  ⎢          \n",
       "⎢⎢                       ⎥  ⎢                                   ⎥  ⎢-R⋅cos(θ₀(\n",
       "⎢⎢    -R⋅cos(φ₁(t))      ⎥  ⎢      R⋅sin(φ₁(t))⋅cos(θ₁(t))      ⎥  ⎢          \n",
       "⎢⎢    ──────────────     ⎥  ⎢      ───────────────────────      ⎥  ⎢      0   \n",
       "⎢⎢         2⋅l           ⎥  ⎢                2⋅l                ⎥  ⎢          \n",
       "⎢⎢                       ⎥  ⎢                                   ⎥  ⎢      1   \n",
       "⎢⎢           0           ⎥  ⎢            -sin(θ₁(t))            ⎥  ⎢          \n",
       "⎢⎢                       ⎥, ⎢                                   ⎥, ⎢      0   \n",
       "⎢⎢           1           ⎥  ⎢                 0                 ⎥  ⎢          \n",
       "⎢⎢                       ⎥  ⎢                                   ⎥  ⎢      0   \n",
       "⎢⎢           0           ⎥  ⎢                 1                 ⎥  ⎢          \n",
       "⎢⎢                       ⎥  ⎢                                   ⎥  ⎢      1   \n",
       "⎢⎢           0           ⎥  ⎢                 0                 ⎥  ⎢          \n",
       "⎢⎢                       ⎥  ⎢                                   ⎥  ⎢      0   \n",
       "⎢⎢           0           ⎥  ⎢                 0                 ⎥  ⎢          \n",
       "⎢⎢                       ⎥  ⎢                                   ⎥  ⎣      0   \n",
       "⎣⎣           0           ⎦  ⎣                 0                 ⎦             \n",
       "\n",
       "      ⎡     0      ⎤  ⎡ R⋅sin(θ₀(t))⋅sin(θ₂(t)) ⎤⎤\n",
       ")) ⎤  ⎢            ⎥  ⎢                         ⎥⎥\n",
       "   ⎥  ⎢     0      ⎥  ⎢-R⋅sin(θ₂(t))⋅cos(θ₀(t)) ⎥⎥\n",
       "t))⎥  ⎢            ⎥  ⎢                         ⎥⎥\n",
       "   ⎥  ⎢R⋅cos(φ₂(t))⎥  ⎢-R⋅sin(φ₂(t))⋅cos(θ₂(t)) ⎥⎥\n",
       "   ⎥  ⎢────────────⎥  ⎢─────────────────────────⎥⎥\n",
       "   ⎥  ⎢    2⋅l     ⎥  ⎢           2⋅l           ⎥⎥\n",
       "   ⎥  ⎢            ⎥  ⎢                         ⎥⎥\n",
       "   ⎥  ⎢     0      ⎥  ⎢       sin(θ₂(t))        ⎥⎥\n",
       "   ⎥, ⎢            ⎥, ⎢                         ⎥⎥\n",
       "   ⎥  ⎢     0      ⎥  ⎢            0            ⎥⎥\n",
       "   ⎥  ⎢            ⎥  ⎢                         ⎥⎥\n",
       "   ⎥  ⎢     0      ⎥  ⎢            0            ⎥⎥\n",
       "   ⎥  ⎢            ⎥  ⎢                         ⎥⎥\n",
       "   ⎥  ⎢     0      ⎥  ⎢            0            ⎥⎥\n",
       "   ⎥  ⎢            ⎥  ⎢                         ⎥⎥\n",
       "   ⎥  ⎢     1      ⎥  ⎢            0            ⎥⎥\n",
       "   ⎦  ⎢            ⎥  ⎢                         ⎥⎥\n",
       "      ⎣     0      ⎦  ⎣            1            ⎦⎦"
      ]
     },
     "execution_count": 4,
     "metadata": {},
     "output_type": "execute_result"
    }
   ],
   "source": [
    "generators = A.nullspace()\n",
    "for g in generators:\n",
    "    g.simplify()\n",
    "\n",
    "# check if for each generator, Ag = 0\n",
    "results = [A * g for g in generators]\n",
    "for r in results:\n",
    "    r.simplify()\n",
    "    assert r == zeros(4, 1), 'This must hold: A * g = 0'\n",
    "\n",
    "generators"
   ]
  },
  {
   "cell_type": "code",
   "execution_count": 5,
   "metadata": {},
   "outputs": [
    {
     "data": {
      "text/latex": [
       "$$\\left [ \\left[\\begin{matrix}R c_{\\phi_{1}} c_{\\theta_{0}}\\\\R s_{\\theta_{0}} c_{\\phi_{1}}\\\\- \\frac{R c_{\\phi_{1}}}{2 l}\\\\0\\\\1\\\\0\\\\0\\\\0\\\\0\\end{matrix}\\right], \\quad \\left[\\begin{matrix}- R s_{\\phi_{1}} c_{\\theta_{0}} c_{\\theta_{1}}\\\\- R s_{\\phi_{1}} s_{\\theta_{0}} c_{\\theta_{1}}\\\\\\frac{R s_{\\phi_{1}} c_{\\theta_{1}}}{2 l}\\\\- s_{\\theta_{1}}\\\\0\\\\1\\\\0\\\\0\\\\0\\end{matrix}\\right], \\quad \\left[\\begin{matrix}R s_{\\theta_{0}}\\\\- R c_{\\theta_{0}}\\\\0\\\\1\\\\0\\\\0\\\\1\\\\0\\\\0\\end{matrix}\\right], \\quad \\left[\\begin{matrix}0\\\\0\\\\\\frac{R c_{\\phi_{2}}}{2 l}\\\\0\\\\0\\\\0\\\\0\\\\1\\\\0\\end{matrix}\\right], \\quad \\left[\\begin{matrix}R s_{\\theta_{0}} s_{\\theta_{2}}\\\\- R s_{\\theta_{2}} c_{\\theta_{0}}\\\\- \\frac{R s_{\\phi_{2}} c_{\\theta_{2}}}{2 l}\\\\s_{\\theta_{2}}\\\\0\\\\0\\\\0\\\\0\\\\1\\end{matrix}\\right]\\right ]$$"
      ],
      "text/plain": [
       "⎡⎡R⋅cos(φ₁(t))⋅cos(θ₀(t))⎤  ⎡-R⋅sin(φ₁(t))⋅cos(θ₀(t))⋅cos(θ₁(t))⎤             \n",
       "⎢⎢                       ⎥  ⎢                                   ⎥  ⎡R⋅sin(θ₀(t\n",
       "⎢⎢R⋅sin(θ₀(t))⋅cos(φ₁(t))⎥  ⎢-R⋅sin(φ₁(t))⋅sin(θ₀(t))⋅cos(θ₁(t))⎥  ⎢          \n",
       "⎢⎢                       ⎥  ⎢                                   ⎥  ⎢-R⋅cos(θ₀(\n",
       "⎢⎢    -R⋅cos(φ₁(t))      ⎥  ⎢      R⋅sin(φ₁(t))⋅cos(θ₁(t))      ⎥  ⎢          \n",
       "⎢⎢    ──────────────     ⎥  ⎢      ───────────────────────      ⎥  ⎢      0   \n",
       "⎢⎢         2⋅l           ⎥  ⎢                2⋅l                ⎥  ⎢          \n",
       "⎢⎢                       ⎥  ⎢                                   ⎥  ⎢      1   \n",
       "⎢⎢           0           ⎥  ⎢            -sin(θ₁(t))            ⎥  ⎢          \n",
       "⎢⎢                       ⎥, ⎢                                   ⎥, ⎢      0   \n",
       "⎢⎢           1           ⎥  ⎢                 0                 ⎥  ⎢          \n",
       "⎢⎢                       ⎥  ⎢                                   ⎥  ⎢      0   \n",
       "⎢⎢           0           ⎥  ⎢                 1                 ⎥  ⎢          \n",
       "⎢⎢                       ⎥  ⎢                                   ⎥  ⎢      1   \n",
       "⎢⎢           0           ⎥  ⎢                 0                 ⎥  ⎢          \n",
       "⎢⎢                       ⎥  ⎢                                   ⎥  ⎢      0   \n",
       "⎢⎢           0           ⎥  ⎢                 0                 ⎥  ⎢          \n",
       "⎢⎢                       ⎥  ⎢                                   ⎥  ⎣      0   \n",
       "⎣⎣           0           ⎦  ⎣                 0                 ⎦             \n",
       "\n",
       "      ⎡     0      ⎤  ⎡ R⋅sin(θ₀(t))⋅sin(θ₂(t)) ⎤⎤\n",
       ")) ⎤  ⎢            ⎥  ⎢                         ⎥⎥\n",
       "   ⎥  ⎢     0      ⎥  ⎢-R⋅sin(θ₂(t))⋅cos(θ₀(t)) ⎥⎥\n",
       "t))⎥  ⎢            ⎥  ⎢                         ⎥⎥\n",
       "   ⎥  ⎢R⋅cos(φ₂(t))⎥  ⎢-R⋅sin(φ₂(t))⋅cos(θ₂(t)) ⎥⎥\n",
       "   ⎥  ⎢────────────⎥  ⎢─────────────────────────⎥⎥\n",
       "   ⎥  ⎢    2⋅l     ⎥  ⎢           2⋅l           ⎥⎥\n",
       "   ⎥  ⎢            ⎥  ⎢                         ⎥⎥\n",
       "   ⎥  ⎢     0      ⎥  ⎢       sin(θ₂(t))        ⎥⎥\n",
       "   ⎥, ⎢            ⎥, ⎢                         ⎥⎥\n",
       "   ⎥  ⎢     0      ⎥  ⎢            0            ⎥⎥\n",
       "   ⎥  ⎢            ⎥  ⎢                         ⎥⎥\n",
       "   ⎥  ⎢     0      ⎥  ⎢            0            ⎥⎥\n",
       "   ⎥  ⎢            ⎥  ⎢                         ⎥⎥\n",
       "   ⎥  ⎢     0      ⎥  ⎢            0            ⎥⎥\n",
       "   ⎥  ⎢            ⎥  ⎢                         ⎥⎥\n",
       "   ⎥  ⎢     1      ⎥  ⎢            0            ⎥⎥\n",
       "   ⎦  ⎢            ⎥  ⎢                         ⎥⎥\n",
       "      ⎣     0      ⎦  ⎣            1            ⎦⎦"
      ]
     },
     "execution_count": 5,
     "metadata": {},
     "output_type": "execute_result"
    }
   ],
   "source": [
    "generators_manual = get_generators()\n",
    "\n",
    "# check\n",
    "for g1, g2 in zip(generators, generators_manual):\n",
    "    result = g1 - g2\n",
    "    result.simplify()\n",
    "    assert result == zeros(*g1.shape), 'Error in manual generators?'\n",
    "    \n",
    "generators_manual"
   ]
  },
  {
   "cell_type": "code",
   "execution_count": null,
   "metadata": {},
   "outputs": [],
   "source": []
  }
 ],
 "metadata": {
  "kernelspec": {
   "display_name": "Python 3 (ipykernel)",
   "language": "python",
   "name": "python3"
  },
  "language_info": {
   "codemirror_mode": {
    "name": "ipython",
    "version": 3
   },
   "file_extension": ".py",
   "mimetype": "text/x-python",
   "name": "python",
   "nbconvert_exporter": "python",
   "pygments_lexer": "ipython3",
   "version": "3.13.2"
  }
 },
 "nbformat": 4,
 "nbformat_minor": 4
}
