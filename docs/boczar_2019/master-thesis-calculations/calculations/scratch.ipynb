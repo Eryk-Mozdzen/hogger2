{
 "cells": [
  {
   "cell_type": "code",
   "execution_count": 1,
   "metadata": {},
   "outputs": [
    {
     "name": "stdout",
     "output_type": "stream",
     "text": [
      "IPython console for SymPy 1.3 (Python 3.7.2-64-bit) (ground types: gmpy)\n",
      "\n",
      "These commands were executed:\n",
      ">>> from __future__ import division\n",
      ">>> from sympy import *\n",
      ">>> x, y, z, t = symbols('x y z t')\n",
      ">>> k, m, n = symbols('k m n', integer=True)\n",
      ">>> f, g, h = symbols('f g h', cls=Function)\n",
      ">>> init_printing()\n",
      "\n",
      "Documentation can be found at http://docs.sympy.org/1.3/\n",
      "\n"
     ]
    }
   ],
   "source": [
    "import sympy\n",
    "from sympy.physics.vector import dynamicsymbols\n",
    "\n",
    "import sympy_utils\n",
    "from sympy_utils import short_latex, ShortLatexPrinter, matsym, vec, dynvec, SympyDumpable\n",
    "\n",
    "import model\n",
    "import algorithms\n",
    "\n",
    "sympy.init_session(latex_printer=short_latex)\n",
    "# sympy.init_session()"
   ]
  },
  {
   "cell_type": "code",
   "execution_count": 2,
   "metadata": {},
   "outputs": [],
   "source": [
    "m1 = model.define_full_1()\n",
    "m2 = model.define_full_2()"
   ]
  },
  {
   "cell_type": "code",
   "execution_count": 3,
   "metadata": {},
   "outputs": [
    {
     "data": {
      "text/latex": [
       "$$\\left[\\begin{matrix}- c_{\\theta_{0}} & - s_{\\theta_{0}} & 0 & 0 & R c_{\\phi_{1}} & - R s_{\\phi_{1}} c_{\\theta_{1}} & 0 & 0 & 0\\\\s_{\\theta_{0}} & - c_{\\theta_{0}} & 0 & - R & 0 & - R s_{\\theta_{1}} & 0 & 0 & 0\\\\- c_{\\theta_{0}} & - s_{\\theta_{0}} & - 2 l & 0 & 0 & 0 & 0 & R c_{\\phi_{2}} & - R s_{\\phi_{2}} c_{\\theta_{2}}\\\\s_{\\theta_{0}} & - c_{\\theta_{0}} & 0 & 0 & 0 & 0 & - R & 0 & - R s_{\\theta_{2}}\\end{matrix}\\right] \\dot{q} = 0$$"
      ],
      "text/plain": [
       "⎡-cos(θ₀(t))  -sin(θ₀(t))   0    0   R⋅cos(φ₁(t))  -R⋅sin(φ₁(t))⋅cos(θ₁(t))  0\n",
       "⎢                                                                             \n",
       "⎢sin(θ₀(t))   -cos(θ₀(t))   0    -R       0             -R⋅sin(θ₁(t))        0\n",
       "⎢                                                                             \n",
       "⎢-cos(θ₀(t))  -sin(θ₀(t))  -2⋅l  0        0                   0              0\n",
       "⎢                                                                             \n",
       "⎣sin(θ₀(t))   -cos(θ₀(t))   0    0        0                   0              -\n",
       "\n",
       "        0                   0            ⎤            \n",
       "                                         ⎥            \n",
       "        0                   0            ⎥            \n",
       "                                         ⎥⋅\\dot{q} = 0\n",
       "   R⋅cos(φ₂(t))  -R⋅sin(φ₂(t))⋅cos(θ₂(t))⎥            \n",
       "                                         ⎥            \n",
       "R       0             -R⋅sin(θ₂(t))      ⎦            "
      ]
     },
     "execution_count": 3,
     "metadata": {},
     "output_type": "execute_result"
    }
   ],
   "source": [
    "m1.show_pfaff()"
   ]
  },
  {
   "cell_type": "code",
   "execution_count": 4,
   "metadata": {},
   "outputs": [
    {
     "data": {
      "text/latex": [
       "$$\\left[\\begin{matrix}\\frac{d}{d t} x\\\\\\frac{d}{d t} y\\\\\\frac{d}{d t} \\theta_{0}\\\\\\frac{d}{d t} \\phi_{1}\\\\\\frac{d}{d t} \\theta_{1}\\\\\\frac{d}{d t} \\psi_{1}\\\\\\frac{d}{d t} \\phi_{2}\\\\\\frac{d}{d t} \\theta_{2}\\\\\\frac{d}{d t} \\psi_{2}\\end{matrix}\\right] = \\left[\\begin{matrix}R \\left(- s_{\\phi_{1}} c_{\\theta_{0}} c_{\\theta_{1}} + s_{\\theta_{0}} s_{\\theta_{1}}\\right) \\eta_{3} + R \\eta_{1} s_{\\theta_{0}} + R \\eta_{2} c_{\\phi_{1}} c_{\\theta_{0}}\\\\- R \\left(s_{\\phi_{1}} s_{\\theta_{0}} c_{\\theta_{1}} + s_{\\theta_{1}} c_{\\theta_{0}}\\right) \\eta_{3} - R \\eta_{1} c_{\\theta_{0}} + R \\eta_{2} s_{\\theta_{0}} c_{\\phi_{1}}\\\\- \\frac{R \\eta_{2} c_{\\phi_{1}}}{2 l} + \\frac{R \\eta_{3} s_{\\phi_{1}} c_{\\theta_{1}}}{2 l} + \\frac{R \\eta_{4} c_{\\phi_{2}}}{2 l} - \\frac{R \\eta_{5} s_{\\phi_{2}} c_{\\theta_{2}}}{2 l}\\\\\\eta_{1}\\\\\\eta_{2}\\\\\\eta_{3}\\\\\\eta_{1} + \\eta_{3} s_{\\theta_{1}} - \\eta_{5} s_{\\theta_{2}}\\\\\\eta_{4}\\\\\\eta_{5}\\end{matrix}\\right]$$"
      ],
      "text/plain": [
       "⎡d        ⎤                                                                   \n",
       "⎢──(x(t)) ⎥                                                                   \n",
       "⎢dt       ⎥                                                                   \n",
       "⎢         ⎥                                                                   \n",
       "⎢d        ⎥                                                                   \n",
       "⎢──(y(t)) ⎥                                                                   \n",
       "⎢dt       ⎥                                                                   \n",
       "⎢         ⎥                                                                   \n",
       "⎢d        ⎥   ⎡R⋅(-sin(φ₁(t))⋅cos(θ₀(t))⋅cos(θ₁(t)) + sin(θ₀(t))⋅sin(θ₁(t)))⋅η\n",
       "⎢──(θ₀(t))⎥   ⎢                                                               \n",
       "⎢dt       ⎥   ⎢-R⋅(sin(φ₁(t))⋅sin(θ₀(t))⋅cos(θ₁(t)) + sin(θ₁(t))⋅cos(θ₀(t)))⋅η\n",
       "⎢         ⎥   ⎢                                                               \n",
       "⎢d        ⎥   ⎢         R⋅η₂(t)⋅cos(φ₁(t))   R⋅η₃(t)⋅sin(φ₁(t))⋅cos(θ₁(t))   R\n",
       "⎢──(φ₁(t))⎥   ⎢       - ────────────────── + ───────────────────────────── + ─\n",
       "⎢dt       ⎥   ⎢                2⋅l                        2⋅l                 \n",
       "⎢         ⎥   ⎢                                                               \n",
       "⎢d        ⎥   ⎢                                                         η₁(t) \n",
       "⎢──(θ₁(t))⎥ = ⎢                                                               \n",
       "⎢dt       ⎥   ⎢                                                         η₂(t) \n",
       "⎢         ⎥   ⎢                                                               \n",
       "⎢d        ⎥   ⎢                                                         η₃(t) \n",
       "⎢──(ψ₁(t))⎥   ⎢                                                               \n",
       "⎢dt       ⎥   ⎢                                      η₁(t) + η₃(t)⋅sin(θ₁(t)) \n",
       "⎢         ⎥   ⎢                                                               \n",
       "⎢d        ⎥   ⎢                                                         η₄(t) \n",
       "⎢──(φ₂(t))⎥   ⎢                                                               \n",
       "⎢dt       ⎥   ⎣                                                         η₅(t) \n",
       "⎢         ⎥                                                                   \n",
       "⎢d        ⎥                                                                   \n",
       "⎢──(θ₂(t))⎥                                                                   \n",
       "⎢dt       ⎥                                                                   \n",
       "⎢         ⎥                                                                   \n",
       "⎢d        ⎥                                                                   \n",
       "⎢──(ψ₂(t))⎥                                                                   \n",
       "⎣dt       ⎦                                                                   \n",
       "\n",
       "                                                          \n",
       "                                                          \n",
       "                                                          \n",
       "                                                          \n",
       "                                                          \n",
       "                                                          \n",
       "                                                          \n",
       "                                                          \n",
       "₃(t) + R⋅η₁(t)⋅sin(θ₀(t)) + R⋅η₂(t)⋅cos(φ₁(t))⋅cos(θ₀(t))⎤\n",
       "                                                         ⎥\n",
       "₃(t) - R⋅η₁(t)⋅cos(θ₀(t)) + R⋅η₂(t)⋅sin(θ₀(t))⋅cos(φ₁(t))⎥\n",
       "                                                         ⎥\n",
       "⋅η₄(t)⋅cos(φ₂(t))   R⋅η₅(t)⋅sin(φ₂(t))⋅cos(θ₂(t))        ⎥\n",
       "───────────────── - ─────────────────────────────        ⎥\n",
       "      2⋅l                        2⋅l                     ⎥\n",
       "                                                         ⎥\n",
       "                                                         ⎥\n",
       "                                                         ⎥\n",
       "                                                         ⎥\n",
       "                                                         ⎥\n",
       "                                                         ⎥\n",
       "                                                         ⎥\n",
       "- η₅(t)⋅sin(θ₂(t))                                       ⎥\n",
       "                                                         ⎥\n",
       "                                                         ⎥\n",
       "                                                         ⎥\n",
       "                                                         ⎦\n",
       "                                                          \n",
       "                                                          \n",
       "                                                          \n",
       "                                                          \n",
       "                                                          \n",
       "                                                          \n",
       "                                                          \n",
       "                                                          "
      ]
     },
     "execution_count": 4,
     "metadata": {},
     "output_type": "execute_result"
    }
   ],
   "source": [
    "m2.show_as_equations()"
   ]
  },
  {
   "cell_type": "code",
   "execution_count": 5,
   "metadata": {},
   "outputs": [],
   "source": [
    "SympyDumpable.save('/tmp/saved', {'model_1': m1, 'model_2': m2})"
   ]
  },
  {
   "cell_type": "code",
   "execution_count": 6,
   "metadata": {},
   "outputs": [],
   "source": [
    "m11, m22 = SympyDumpable.load('/tmp/saved', [('model_1', model.Model), ('model_2', model.Model)])"
   ]
  },
  {
   "cell_type": "code",
   "execution_count": 7,
   "metadata": {},
   "outputs": [
    {
     "data": {
      "text/latex": [
       "$$\\left[\\begin{matrix}- c_{\\theta_{0}} & - s_{\\theta_{0}} & 0 & 0 & R c_{\\phi_{1}} & - R s_{\\phi_{1}} c_{\\theta_{1}} & 0 & 0 & 0\\\\s_{\\theta_{0}} & - c_{\\theta_{0}} & 0 & - R & 0 & - R s_{\\theta_{1}} & 0 & 0 & 0\\\\- c_{\\theta_{0}} & - s_{\\theta_{0}} & - 2 l & 0 & 0 & 0 & 0 & R c_{\\phi_{2}} & - R s_{\\phi_{2}} c_{\\theta_{2}}\\\\s_{\\theta_{0}} & - c_{\\theta_{0}} & 0 & 0 & 0 & 0 & - R & 0 & - R s_{\\theta_{2}}\\end{matrix}\\right] \\dot{q} = 0$$"
      ],
      "text/plain": [
       "⎡-cos(θ₀(t))  -sin(θ₀(t))   0    0   R⋅cos(φ₁(t))  -R⋅sin(φ₁(t))⋅cos(θ₁(t))  0\n",
       "⎢                                                                             \n",
       "⎢sin(θ₀(t))   -cos(θ₀(t))   0    -R       0             -R⋅sin(θ₁(t))        0\n",
       "⎢                                                                             \n",
       "⎢-cos(θ₀(t))  -sin(θ₀(t))  -2⋅l  0        0                   0              0\n",
       "⎢                                                                             \n",
       "⎣sin(θ₀(t))   -cos(θ₀(t))   0    0        0                   0              -\n",
       "\n",
       "        0                   0            ⎤            \n",
       "                                         ⎥            \n",
       "        0                   0            ⎥            \n",
       "                                         ⎥⋅\\dot{q} = 0\n",
       "   R⋅cos(φ₂(t))  -R⋅sin(φ₂(t))⋅cos(θ₂(t))⎥            \n",
       "                                         ⎥            \n",
       "R       0             -R⋅sin(θ₂(t))      ⎦            "
      ]
     },
     "execution_count": 7,
     "metadata": {},
     "output_type": "execute_result"
    }
   ],
   "source": [
    "m11.show_pfaff()"
   ]
  },
  {
   "cell_type": "code",
   "execution_count": 8,
   "metadata": {},
   "outputs": [
    {
     "data": {
      "text/latex": [
       "$$\\dot{q} = \\left[\\begin{matrix}R s_{\\theta_{0}} & R c_{\\phi_{1}} c_{\\theta_{0}} & R \\left(- s_{\\phi_{1}} c_{\\theta_{0}} c_{\\theta_{1}} + s_{\\theta_{0}} s_{\\theta_{1}}\\right) & 0 & 0\\\\- R c_{\\theta_{0}} & R s_{\\theta_{0}} c_{\\phi_{1}} & - R \\left(s_{\\phi_{1}} s_{\\theta_{0}} c_{\\theta_{1}} + s_{\\theta_{1}} c_{\\theta_{0}}\\right) & 0 & 0\\\\0 & - \\frac{R c_{\\phi_{1}}}{2 l} & \\frac{R s_{\\phi_{1}} c_{\\theta_{1}}}{2 l} & \\frac{R c_{\\phi_{2}}}{2 l} & - \\frac{R s_{\\phi_{2}} c_{\\theta_{2}}}{2 l}\\\\1 & 0 & 0 & 0 & 0\\\\0 & 1 & 0 & 0 & 0\\\\0 & 0 & 1 & 0 & 0\\\\1 & 0 & s_{\\theta_{1}} & 0 & - s_{\\theta_{2}}\\\\0 & 0 & 0 & 1 & 0\\\\0 & 0 & 0 & 0 & 1\\end{matrix}\\right] \\eta$$"
      ],
      "text/plain": [
       "          ⎡R⋅sin(θ₀(t))   R⋅cos(φ₁(t))⋅cos(θ₀(t))  R⋅(-sin(φ₁(t))⋅cos(θ₀(t))⋅c\n",
       "          ⎢                                                                   \n",
       "          ⎢-R⋅cos(θ₀(t))  R⋅sin(θ₀(t))⋅cos(φ₁(t))  -R⋅(sin(φ₁(t))⋅sin(θ₀(t))⋅c\n",
       "          ⎢                                                                   \n",
       "          ⎢                   -R⋅cos(φ₁(t))                           R⋅sin(φ₁\n",
       "          ⎢      0            ──────────────                          ────────\n",
       "          ⎢                        2⋅l                                        \n",
       "          ⎢                                                                   \n",
       "          ⎢      1                   0                                        \n",
       "\\dot{q} = ⎢                                                                   \n",
       "          ⎢      0                   1                                        \n",
       "          ⎢                                                                   \n",
       "          ⎢      0                   0                                        \n",
       "          ⎢                                                                   \n",
       "          ⎢      1                   0                                      si\n",
       "          ⎢                                                                   \n",
       "          ⎢      0                   0                                        \n",
       "          ⎢                                                                   \n",
       "          ⎣      0                   0                                        \n",
       "\n",
       "os(θ₁(t)) + sin(θ₀(t))⋅sin(θ₁(t)))       0                    0            ⎤  \n",
       "                                                                           ⎥  \n",
       "os(θ₁(t)) + sin(θ₁(t))⋅cos(θ₀(t)))       0                    0            ⎥  \n",
       "                                                                           ⎥  \n",
       "(t))⋅cos(θ₁(t))                     R⋅cos(φ₂(t))  -R⋅sin(φ₂(t))⋅cos(θ₂(t)) ⎥  \n",
       "───────────────                     ────────────  ─────────────────────────⎥  \n",
       "  2⋅l                                   2⋅l                  2⋅l           ⎥  \n",
       "                                                                           ⎥  \n",
       "   0                                     0                    0            ⎥  \n",
       "                                                                           ⎥⋅η\n",
       "   0                                     0                    0            ⎥  \n",
       "                                                                           ⎥  \n",
       "   1                                     0                    0            ⎥  \n",
       "                                                                           ⎥  \n",
       "n(θ₁(t))                                 0               -sin(θ₂(t))       ⎥  \n",
       "                                                                           ⎥  \n",
       "   0                                     1                    0            ⎥  \n",
       "                                                                           ⎥  \n",
       "   0                                     0                    1            ⎦  "
      ]
     },
     "execution_count": 8,
     "metadata": {},
     "output_type": "execute_result"
    }
   ],
   "source": [
    "m22.show_as_matrices()"
   ]
  },
  {
   "cell_type": "code",
   "execution_count": 9,
   "metadata": {},
   "outputs": [
    {
     "data": {
      "image/png": "[encoded data removed]",
      "text/latex": [
       "$$\\left[\\begin{matrix}0 & 0 & 0 & 0 & 0\\\\0 & 0 & 0 & 0 & 0\\\\0 & 0 & 0 & 0 & 0\\\\0 & 0 & 0 & 0 & 0\\\\0 & 0 & 0 & 0 & 0\\\\0 & 0 & 0 & 0 & 0\\\\0 & 0 & 0 & 0 & 0\\\\0 & 0 & 0 & 0 & 0\\\\0 & 0 & 0 & 0 & 0\\end{matrix}\\right]$$"
      ],
      "text/plain": [
       "⎡0  0  0  0  0⎤\n",
       "⎢             ⎥\n",
       "⎢0  0  0  0  0⎥\n",
       "⎢             ⎥\n",
       "⎢0  0  0  0  0⎥\n",
       "⎢             ⎥\n",
       "⎢0  0  0  0  0⎥\n",
       "⎢             ⎥\n",
       "⎢0  0  0  0  0⎥\n",
       "⎢             ⎥\n",
       "⎢0  0  0  0  0⎥\n",
       "⎢             ⎥\n",
       "⎢0  0  0  0  0⎥\n",
       "⎢             ⎥\n",
       "⎢0  0  0  0  0⎥\n",
       "⎢             ⎥\n",
       "⎣0  0  0  0  0⎦"
      ]
     },
     "execution_count": 9,
     "metadata": {},
     "output_type": "execute_result"
    }
   ],
   "source": [
    "m22.G - m2.G"
   ]
  },
  {
   "cell_type": "markdown",
   "metadata": {},
   "source": [
    "---\n",
    "\n",
    "---"
   ]
  },
  {
   "cell_type": "code",
   "execution_count": 19,
   "metadata": {},
   "outputs": [
    {
     "data": {
      "text/latex": [
       "$$\\left[\\begin{matrix}\\frac{s_{\\theta_{0}}}{R} & - \\frac{c_{\\theta_{0}}}{R} & 0 & - s_{\\theta_{1}} & 0\\\\\\frac{c_{\\theta_{0}}}{R c_{\\phi_{1}}} & \\frac{s_{\\theta_{0}}}{R c_{\\phi_{1}}} & 0 & c_{\\theta_{1}} \\operatorname{tan}_{\\phi_{1}} & 0\\\\0 & 0 & 0 & 1 & 0\\\\\\frac{s_{\\theta_{0}}}{R} & - \\frac{c_{\\theta_{0}}}{R} & 0 & 0 & - s_{\\theta_{2}}\\\\\\frac{c_{\\theta_{0}}}{R c_{\\phi_{2}}} & \\frac{s_{\\theta_{0}}}{R c_{\\phi_{2}}} & \\frac{2 l}{R c_{\\phi_{2}}} & 0 & c_{\\theta_{2}} \\operatorname{tan}_{\\phi_{2}}\\end{matrix}\\right]$$"
      ],
      "text/plain": [
       "⎡ sin(θ₀(t))   -cos(θ₀(t))                                                    \n",
       "⎢ ──────────   ────────────       0             -sin(θ₁(t))                 0 \n",
       "⎢     R             R                                                         \n",
       "⎢                                                                             \n",
       "⎢ cos(θ₀(t))    sin(θ₀(t))                                                    \n",
       "⎢────────────  ────────────       0        cos(θ₁(t))⋅tan(φ₁(t))            0 \n",
       "⎢R⋅cos(φ₁(t))  R⋅cos(φ₁(t))                                                   \n",
       "⎢                                                                             \n",
       "⎢     0             0             0                  1                      0 \n",
       "⎢                                                                             \n",
       "⎢ sin(θ₀(t))   -cos(θ₀(t))                                                    \n",
       "⎢ ──────────   ────────────       0                  0                 -sin(θ₂\n",
       "⎢     R             R                                                         \n",
       "⎢                                                                             \n",
       "⎢ cos(θ₀(t))    sin(θ₀(t))       2⋅l                                          \n",
       "⎢────────────  ────────────  ────────────            0            cos(θ₂(t))⋅t\n",
       "⎣R⋅cos(φ₂(t))  R⋅cos(φ₂(t))  R⋅cos(φ₂(t))                                     \n",
       "\n",
       "         ⎤\n",
       "         ⎥\n",
       "         ⎥\n",
       "         ⎥\n",
       "         ⎥\n",
       "         ⎥\n",
       "         ⎥\n",
       "         ⎥\n",
       "         ⎥\n",
       "         ⎥\n",
       "         ⎥\n",
       "(t))     ⎥\n",
       "         ⎥\n",
       "         ⎥\n",
       "         ⎥\n",
       "an(φ₂(t))⎥\n",
       "         ⎦"
      ]
     },
     "execution_count": 19,
     "metadata": {},
     "output_type": "execute_result"
    }
   ],
   "source": [
    "exec(model.model_full_q__exec)\n",
    "h = vec(x, y, theta_0, psi_1, psi_2)\n",
    "m1_sl = algorithms.StaticLinearization.compute(m1, h)\n",
    "\n",
    "m1_sl.D_inv"
   ]
  },
  {
   "cell_type": "code",
   "execution_count": 20,
   "metadata": {},
   "outputs": [],
   "source": [
    "SympyDumpable.save('/tmp/saved', {'model': m1, 'static': m1_sl})"
   ]
  },
  {
   "cell_type": "code",
   "execution_count": 21,
   "metadata": {},
   "outputs": [],
   "source": [
    "mm1, mm1_sl = SympyDumpable.load('/tmp/saved', [('model', model.Model), ('static', algorithms.StaticLinearization)])"
   ]
  },
  {
   "cell_type": "code",
   "execution_count": 22,
   "metadata": {},
   "outputs": [
    {
     "data": {
      "text/latex": [
       "$$\\left[\\begin{matrix}R s_{\\theta_{0}} & R c_{\\phi_{1}} c_{\\theta_{0}} & R \\left(- s_{\\phi_{1}} c_{\\theta_{0}} c_{\\theta_{1}} + s_{\\theta_{0}} s_{\\theta_{1}}\\right) & 0 & 0\\\\- R c_{\\theta_{0}} & R s_{\\theta_{0}} c_{\\phi_{1}} & - R \\left(s_{\\phi_{1}} s_{\\theta_{0}} c_{\\theta_{1}} + s_{\\theta_{1}} c_{\\theta_{0}}\\right) & 0 & 0\\\\- \\frac{R s_{\\phi_{2}}}{2 l \\operatorname{tan}_{\\theta_{2}}} & - \\frac{R c_{\\phi_{1}}}{2 l} & \\frac{R \\left(s_{\\phi_{1}} c_{\\theta_{1}} - \\frac{s_{\\phi_{2}} s_{\\theta_{1}}}{\\operatorname{tan}_{\\theta_{2}}}\\right)}{2 l} & \\frac{R s_{\\phi_{2}}}{2 l \\operatorname{tan}_{\\theta_{2}}} & \\frac{R c_{\\phi_{2}}}{2 l}\\\\1 & 0 & 0 & 0 & 0\\\\0 & 1 & 0 & 0 & 0\\\\0 & 0 & 1 & 0 & 0\\\\0 & 0 & 0 & 1 & 0\\\\0 & 0 & 0 & 0 & 1\\\\\\frac{1}{s_{\\theta_{2}}} & 0 & \\frac{s_{\\theta_{1}}}{s_{\\theta_{2}}} & - \\frac{1}{s_{\\theta_{2}}} & 0\\end{matrix}\\right]$$"
      ],
      "text/plain": [
       "⎡ R⋅sin(θ₀(t))   R⋅cos(φ₁(t))⋅cos(θ₀(t))  R⋅(-sin(φ₁(t))⋅cos(θ₀(t))⋅cos(θ₁(t))\n",
       "⎢                                                                             \n",
       "⎢-R⋅cos(θ₀(t))   R⋅sin(θ₀(t))⋅cos(φ₁(t))  -R⋅(sin(φ₁(t))⋅sin(θ₀(t))⋅cos(θ₁(t))\n",
       "⎢                                                                             \n",
       "⎢                                                 ⎛                        sin\n",
       "⎢                                               R⋅⎜sin(φ₁(t))⋅cos(θ₁(t)) - ───\n",
       "⎢-R⋅sin(φ₂(t))       -R⋅cos(φ₁(t))                ⎝                           \n",
       "⎢──────────────      ──────────────             ──────────────────────────────\n",
       "⎢2⋅l⋅tan(θ₂(t))           2⋅l                                          2⋅l    \n",
       "⎢                                                                             \n",
       "⎢      1                    0                                           0     \n",
       "⎢                                                                             \n",
       "⎢      0                    1                                           0     \n",
       "⎢                                                                             \n",
       "⎢      0                    0                                           1     \n",
       "⎢                                                                             \n",
       "⎢      0                    0                                           0     \n",
       "⎢                                                                             \n",
       "⎢      0                    0                                           0     \n",
       "⎢                                                                             \n",
       "⎢      1                                                           sin(θ₁(t)) \n",
       "⎢  ──────────               0                                      ────────── \n",
       "⎣  sin(θ₂(t))                                                      sin(θ₂(t)) \n",
       "\n",
       " + sin(θ₀(t))⋅sin(θ₁(t)))        0              0      ⎤\n",
       "                                                       ⎥\n",
       " + sin(θ₁(t))⋅cos(θ₀(t)))        0              0      ⎥\n",
       "                                                       ⎥\n",
       "(φ₂(t))⋅sin(θ₁(t))⎞                                    ⎥\n",
       "──────────────────⎟                                    ⎥\n",
       "   tan(θ₂(t))     ⎠         R⋅sin(φ₂(t))   R⋅cos(φ₂(t))⎥\n",
       "───────────────────        ──────────────  ────────────⎥\n",
       "                           2⋅l⋅tan(θ₂(t))      2⋅l     ⎥\n",
       "                                                       ⎥\n",
       "                                 0              0      ⎥\n",
       "                                                       ⎥\n",
       "                                 0              0      ⎥\n",
       "                                                       ⎥\n",
       "                                 0              0      ⎥\n",
       "                                                       ⎥\n",
       "                                 1              0      ⎥\n",
       "                                                       ⎥\n",
       "                                 0              1      ⎥\n",
       "                                                       ⎥\n",
       "                                -1                     ⎥\n",
       "                             ──────────         0      ⎥\n",
       "                             sin(θ₂(t))                ⎦"
      ]
     },
     "execution_count": 22,
     "metadata": {},
     "output_type": "execute_result"
    }
   ],
   "source": [
    "mm1.G"
   ]
  },
  {
   "cell_type": "code",
   "execution_count": 23,
   "metadata": {},
   "outputs": [
    {
     "data": {
      "text/latex": [
       "$$\\left[\\begin{matrix}\\frac{s_{\\theta_{0}}}{R} & - \\frac{c_{\\theta_{0}}}{R} & 0 & - s_{\\theta_{1}} & 0\\\\\\frac{c_{\\theta_{0}}}{R c_{\\phi_{1}}} & \\frac{s_{\\theta_{0}}}{R c_{\\phi_{1}}} & 0 & c_{\\theta_{1}} \\operatorname{tan}_{\\phi_{1}} & 0\\\\0 & 0 & 0 & 1 & 0\\\\\\frac{s_{\\theta_{0}}}{R} & - \\frac{c_{\\theta_{0}}}{R} & 0 & 0 & - s_{\\theta_{2}}\\\\\\frac{c_{\\theta_{0}}}{R c_{\\phi_{2}}} & \\frac{s_{\\theta_{0}}}{R c_{\\phi_{2}}} & \\frac{2 l}{R c_{\\phi_{2}}} & 0 & c_{\\theta_{2}} \\operatorname{tan}_{\\phi_{2}}\\end{matrix}\\right]$$"
      ],
      "text/plain": [
       "⎡ sin(θ₀(t))   -cos(θ₀(t))                                                    \n",
       "⎢ ──────────   ────────────       0             -sin(θ₁(t))                 0 \n",
       "⎢     R             R                                                         \n",
       "⎢                                                                             \n",
       "⎢ cos(θ₀(t))    sin(θ₀(t))                                                    \n",
       "⎢────────────  ────────────       0        cos(θ₁(t))⋅tan(φ₁(t))            0 \n",
       "⎢R⋅cos(φ₁(t))  R⋅cos(φ₁(t))                                                   \n",
       "⎢                                                                             \n",
       "⎢     0             0             0                  1                      0 \n",
       "⎢                                                                             \n",
       "⎢ sin(θ₀(t))   -cos(θ₀(t))                                                    \n",
       "⎢ ──────────   ────────────       0                  0                 -sin(θ₂\n",
       "⎢     R             R                                                         \n",
       "⎢                                                                             \n",
       "⎢ cos(θ₀(t))    sin(θ₀(t))       2⋅l                                          \n",
       "⎢────────────  ────────────  ────────────            0            cos(θ₂(t))⋅t\n",
       "⎣R⋅cos(φ₂(t))  R⋅cos(φ₂(t))  R⋅cos(φ₂(t))                                     \n",
       "\n",
       "         ⎤\n",
       "         ⎥\n",
       "         ⎥\n",
       "         ⎥\n",
       "         ⎥\n",
       "         ⎥\n",
       "         ⎥\n",
       "         ⎥\n",
       "         ⎥\n",
       "         ⎥\n",
       "         ⎥\n",
       "(t))     ⎥\n",
       "         ⎥\n",
       "         ⎥\n",
       "         ⎥\n",
       "an(φ₂(t))⎥\n",
       "         ⎦"
      ]
     },
     "execution_count": 23,
     "metadata": {},
     "output_type": "execute_result"
    }
   ],
   "source": [
    "mm1_sl.D_inv"
   ]
  },
  {
   "cell_type": "code",
   "execution_count": null,
   "metadata": {},
   "outputs": [],
   "source": []
  },
  {
   "cell_type": "code",
   "execution_count": null,
   "metadata": {},
   "outputs": [],
   "source": []
  }
 ],
 "metadata": {
  "kernelspec": {
   "display_name": "Python 3 (ipykernel)",
   "language": "python",
   "name": "python3"
  },
  "language_info": {
   "codemirror_mode": {
    "name": "ipython",
    "version": 3
   },
   "file_extension": ".py",
   "mimetype": "text/x-python",
   "name": "python",
   "nbconvert_exporter": "python",
   "pygments_lexer": "ipython3",
   "version": "3.13.2"
  }
 },
 "nbformat": 4,
 "nbformat_minor": 4
}
