{
 "cells": [
  {
   "cell_type": "code",
   "execution_count": 1,
   "metadata": {},
   "outputs": [
    {
     "name": "stdout",
     "output_type": "stream",
     "text": [
      "IPython console for SymPy 1.3 (Python 3.7.2-64-bit) (ground types: gmpy)\n",
      "\n",
      "These commands were executed:\n",
      ">>> from __future__ import division\n",
      ">>> from sympy import *\n",
      ">>> x, y, z, t = symbols('x y z t')\n",
      ">>> k, m, n = symbols('k m n', integer=True)\n",
      ">>> f, g, h = symbols('f g h', cls=Function)\n",
      ">>> init_printing()\n",
      "\n",
      "Documentation can be found at http://docs.sympy.org/1.3/\n",
      "\n"
     ]
    }
   ],
   "source": [
    "import sympy\n",
    "from sympy.physics.vector import dynamicsymbols\n",
    "import sympy_utils\n",
    "from sympy_utils import short_latex, ShortLatexPrinter, matsym\n",
    "\n",
    "sympy.init_session(latex_printer=short_latex)"
   ]
  },
  {
   "cell_type": "markdown",
   "metadata": {},
   "source": [
    "# Static and dynamic state feedback \n",
    "\n",
    "based on *Metody Matematyczne Automatyki i Robotyki, K. Tchoń, R. Muszyński* (p. 127)"
   ]
  },
  {
   "cell_type": "code",
   "execution_count": 2,
   "metadata": {},
   "outputs": [
    {
     "data": {
      "text/latex": [
       "$$\\left[\\begin{matrix}\\operatorname{u_{1}} c_{\\theta}\\\\\\operatorname{u_{1}} s_{\\theta}\\\\\\operatorname{u_{2}}\\end{matrix}\\right]$$"
      ],
      "text/plain": [
       "⎡u₁(t)⋅cos(θ(t))⎤\n",
       "⎢               ⎥\n",
       "⎢u₁(t)⋅sin(θ(t))⎥\n",
       "⎢               ⎥\n",
       "⎣     u₂(t)     ⎦"
      ]
     },
     "execution_count": 2,
     "metadata": {},
     "output_type": "execute_result"
    }
   ],
   "source": [
    "d = Symbol('d')\n",
    "q = x, y, theta = Matrix(dynamicsymbols('x y theta'))\n",
    "u = u1, u2 = Matrix(dynamicsymbols('u1 u2'))\n",
    "\n",
    "# kinematics\n",
    "G = Matrix([\n",
    "    [cos(theta), 0],\n",
    "    [sin(theta), 0],\n",
    "    [0,          1],\n",
    "])\n",
    "dq = G * u\n",
    "dq"
   ]
  },
  {
   "cell_type": "markdown",
   "metadata": {},
   "source": [
    "---\n",
    "\n",
    "$ \\dot h = D(q)u = v $\n",
    "\n",
    "> $ D(q) $ is just a name of a matrix, not derivative symbol. Usually I call this $ \\dfrac{\\delta h(q)}{\\delta q} G(q) $."
   ]
  },
  {
   "cell_type": "code",
   "execution_count": 3,
   "metadata": {},
   "outputs": [
    {
     "data": {
      "text/latex": [
       "$$\\left[\\begin{matrix}- d s_{\\theta} \\frac{d}{d t} \\theta + \\frac{d}{d t} x\\\\d c_{\\theta} \\frac{d}{d t} \\theta + \\frac{d}{d t} y\\end{matrix}\\right]$$"
      ],
      "text/plain": [
       "⎡              d          d       ⎤\n",
       "⎢- d⋅sin(θ(t))⋅──(θ(t)) + ──(x(t))⎥\n",
       "⎢              dt         dt      ⎥\n",
       "⎢                                 ⎥\n",
       "⎢             d          d        ⎥\n",
       "⎢ d⋅cos(θ(t))⋅──(θ(t)) + ──(y(t)) ⎥\n",
       "⎣             dt         dt       ⎦"
      ]
     },
     "metadata": {},
     "output_type": "display_data"
    },
    {
     "data": {
      "text/latex": [
       "$$\\dot{h} = \\left[\\begin{matrix}- d \\operatorname{u_{2}} s_{\\theta} + \\operatorname{u_{1}} c_{\\theta}\\\\d \\operatorname{u_{2}} c_{\\theta} + \\operatorname{u_{1}} s_{\\theta}\\end{matrix}\\right]$$"
      ],
      "text/plain": [
       "          ⎡-d⋅u₂(t)⋅sin(θ(t)) + u₁(t)⋅cos(θ(t))⎤\n",
       "\\dot{h} = ⎢                                    ⎥\n",
       "          ⎣d⋅u₂(t)⋅cos(θ(t)) + u₁(t)⋅sin(θ(t)) ⎦"
      ]
     },
     "execution_count": 3,
     "metadata": {},
     "output_type": "execute_result"
    }
   ],
   "source": [
    "# output function\n",
    "h = Matrix([\n",
    "    x + d * cos(theta),\n",
    "    y + d * sin(theta),\n",
    "])\n",
    "\n",
    "# let's differentiate and substitute derivatives of 'q' with 'u'\n",
    "display(h.diff(t))\n",
    "\n",
    "dh = h.diff(t).subs({_q.diff(): _dq for (_q, _dq) in zip(q, dq)})\n",
    "assert dh == h.jacobian(q) * G * u, 'Should be the same'\n",
    "\n",
    "Eq(matsym('\\dot{h}', h), dh)"
   ]
  },
  {
   "cell_type": "code",
   "execution_count": 6,
   "metadata": {},
   "outputs": [
    {
     "data": {
      "text/latex": [
       "$$\\left[\\begin{matrix}c_{\\theta} & - d s_{\\theta}\\\\s_{\\theta} & d c_{\\theta}\\end{matrix}\\right] u$$"
      ],
      "text/plain": [
       "⎡cos(θ(t))  -d⋅sin(θ(t))⎤  \n",
       "⎢                       ⎥⋅u\n",
       "⎣sin(θ(t))  d⋅cos(θ(t)) ⎦  "
      ]
     },
     "execution_count": 6,
     "metadata": {},
     "output_type": "execute_result"
    }
   ],
   "source": [
    "# extracting matrix and vector from a vector\n",
    "D = dh.jacobian(u)\n",
    "D * matsym('u', u)"
   ]
  },
  {
   "cell_type": "code",
   "execution_count": 7,
   "metadata": {},
   "outputs": [
    {
     "data": {
      "text/latex": [
       "$$\\left[\\begin{matrix}c_{\\theta} & - d s_{\\theta}\\\\s_{\\theta} & d c_{\\theta}\\end{matrix}\\right]$$"
      ],
      "text/plain": [
       "⎡cos(θ(t))  -d⋅sin(θ(t))⎤\n",
       "⎢                       ⎥\n",
       "⎣sin(θ(t))  d⋅cos(θ(t)) ⎦"
      ]
     },
     "execution_count": 7,
     "metadata": {},
     "output_type": "execute_result"
    }
   ],
   "source": [
    "# but this was the same as\n",
    "assert h.jacobian(q) * G == D, 'Should be the same'\n",
    "h.jacobian(q) * G"
   ]
  },
  {
   "cell_type": "markdown",
   "metadata": {},
   "source": [
    "## New coordinates $ \\xi  $"
   ]
  },
  {
   "cell_type": "code",
   "execution_count": 8,
   "metadata": {},
   "outputs": [
    {
     "data": {
      "text/latex": [
       "$$\\left[\\begin{matrix}d c_{\\theta} + x\\\\d s_{\\theta} + y\\\\\\theta\\end{matrix}\\right]$$"
      ],
      "text/plain": [
       "⎡d⋅cos(θ(t)) + x(t)⎤\n",
       "⎢                  ⎥\n",
       "⎢d⋅sin(θ(t)) + y(t)⎥\n",
       "⎢                  ⎥\n",
       "⎣       θ(t)       ⎦"
      ]
     },
     "execution_count": 8,
     "metadata": {},
     "output_type": "execute_result"
    }
   ],
   "source": [
    "xi = Matrix([*h, theta])\n",
    "xi"
   ]
  },
  {
   "cell_type": "code",
   "execution_count": 9,
   "metadata": {},
   "outputs": [
    {
     "data": {
      "text/latex": [
       "$$\\left[\\begin{matrix}- d \\operatorname{u_{2}} s_{\\theta} + \\operatorname{u_{1}} c_{\\theta}\\\\d \\operatorname{u_{2}} c_{\\theta} + \\operatorname{u_{1}} s_{\\theta}\\\\\\operatorname{u_{2}}\\end{matrix}\\right]$$"
      ],
      "text/plain": [
       "⎡-d⋅u₂(t)⋅sin(θ(t)) + u₁(t)⋅cos(θ(t))⎤\n",
       "⎢                                    ⎥\n",
       "⎢d⋅u₂(t)⋅cos(θ(t)) + u₁(t)⋅sin(θ(t)) ⎥\n",
       "⎢                                    ⎥\n",
       "⎣               u₂(t)                ⎦"
      ]
     },
     "execution_count": 9,
     "metadata": {},
     "output_type": "execute_result"
    }
   ],
   "source": [
    "xi.diff(t) \\\n",
    "    .subs({_q.diff(): _dq for (_q, _dq) in zip(q, dq)})"
   ]
  },
  {
   "cell_type": "markdown",
   "metadata": {},
   "source": [
    "# When $ d = 0 $"
   ]
  },
  {
   "cell_type": "code",
   "execution_count": 10,
   "metadata": {},
   "outputs": [],
   "source": [
    "# output function\n",
    "h = Matrix([\n",
    "    x,\n",
    "    y,\n",
    "])"
   ]
  },
  {
   "cell_type": "code",
   "execution_count": 11,
   "metadata": {},
   "outputs": [
    {
     "data": {
      "image/png": "[encoded data removed]",
      "text/latex": [
       "$$\\left[\\begin{matrix}x\\\\y\\end{matrix}\\right]$$"
      ],
      "text/plain": [
       "⎡x(t)⎤\n",
       "⎢    ⎥\n",
       "⎣y(t)⎦"
      ]
     },
     "execution_count": 11,
     "metadata": {},
     "output_type": "execute_result"
    }
   ],
   "source": [
    "h"
   ]
  },
  {
   "cell_type": "code",
   "execution_count": 12,
   "metadata": {},
   "outputs": [
    {
     "data": {
      "text/latex": [
       "$$\\dot{h} = \\left[\\begin{matrix}c_{\\theta} & 0\\\\s_{\\theta} & 0\\end{matrix}\\right] u$$"
      ],
      "text/plain": [
       "          ⎡cos(θ(t))  0⎤  \n",
       "\\dot{h} = ⎢            ⎥⋅u\n",
       "          ⎣sin(θ(t))  0⎦  "
      ]
     },
     "metadata": {},
     "output_type": "display_data"
    },
    {
     "data": {
      "text/latex": [
       "$$\\dot{h} = \\left[\\begin{matrix}\\operatorname{u_{1}} c_{\\theta}\\\\\\operatorname{u_{1}} s_{\\theta}\\end{matrix}\\right]$$"
      ],
      "text/plain": [
       "          ⎡u₁(t)⋅cos(θ(t))⎤\n",
       "\\dot{h} = ⎢               ⎥\n",
       "          ⎣u₁(t)⋅sin(θ(t))⎦"
      ]
     },
     "execution_count": 12,
     "metadata": {},
     "output_type": "execute_result"
    }
   ],
   "source": [
    "D = h.jacobian(q) * G\n",
    "dh = D * u\n",
    "display( Eq(matsym('\\dot{h}', h), D * matsym('u', u)) )\n",
    "Eq(matsym('\\dot{h}', h), dh)"
   ]
  },
  {
   "cell_type": "code",
   "execution_count": 13,
   "metadata": {},
   "outputs": [
    {
     "data": {
      "text/latex": [
       "$$\\left[\\begin{matrix}- \\operatorname{u_{1}} s_{\\theta} \\frac{d}{d t} \\theta + c_{\\theta} \\frac{d}{d t} \\operatorname{u_{1}}\\\\\\operatorname{u_{1}} c_{\\theta} \\frac{d}{d t} \\theta + s_{\\theta} \\frac{d}{d t} \\operatorname{u_{1}}\\end{matrix}\\right] = \\left[\\begin{matrix}- \\operatorname{u_{1}} \\operatorname{u_{2}} s_{\\theta} + c_{\\theta} \\frac{d}{d t} \\operatorname{u_{1}}\\\\\\operatorname{u_{1}} \\operatorname{u_{2}} c_{\\theta} + s_{\\theta} \\frac{d}{d t} \\operatorname{u_{1}}\\end{matrix}\\right]$$"
      ],
      "text/plain": [
       "⎡                  d                    d        ⎤   ⎡                        \n",
       "⎢- u₁(t)⋅sin(θ(t))⋅──(θ(t)) + cos(θ(t))⋅──(u₁(t))⎥   ⎢-u₁(t)⋅u₂(t)⋅sin(θ(t)) +\n",
       "⎢                  dt                   dt       ⎥   ⎢                        \n",
       "⎢                                                ⎥ = ⎢                        \n",
       "⎢                 d                    d         ⎥   ⎢                        \n",
       "⎢ u₁(t)⋅cos(θ(t))⋅──(θ(t)) + sin(θ(t))⋅──(u₁(t)) ⎥   ⎢u₁(t)⋅u₂(t)⋅cos(θ(t)) + \n",
       "⎣                 dt                   dt        ⎦   ⎣                        \n",
       "\n",
       "           d        ⎤\n",
       " cos(θ(t))⋅──(u₁(t))⎥\n",
       "           dt       ⎥\n",
       "                    ⎥\n",
       "          d         ⎥\n",
       "sin(θ(t))⋅──(u₁(t)) ⎥\n",
       "          dt        ⎦"
      ]
     },
     "execution_count": 13,
     "metadata": {},
     "output_type": "execute_result"
    }
   ],
   "source": [
    "ddh_ = dh.diff(t)\n",
    "ddh = ddh_.subs({_q.diff(): _dq for (_q, _dq) in zip(q, dq)})\n",
    "Eq(ddh_, ddh)"
   ]
  },
  {
   "cell_type": "markdown",
   "metadata": {},
   "source": [
    "Now, because $\\dot u_1$ exist in the equation, we assume that it is another state variable and we define $w$.\n",
    "\n",
    "If $\\dot u_2$ existed too, we could just define $ w = \\dot u $."
   ]
  },
  {
   "cell_type": "code",
   "execution_count": 14,
   "metadata": {},
   "outputs": [
    {
     "data": {
      "image/png": "[encoded data removed]",
      "text/latex": [
       "$$\\left[\\begin{matrix}\\frac{d}{d t} \\operatorname{u_{1}}\\\\\\operatorname{u_{2}}\\end{matrix}\\right]$$"
      ],
      "text/plain": [
       "⎡d        ⎤\n",
       "⎢──(u₁(t))⎥\n",
       "⎢dt       ⎥\n",
       "⎢         ⎥\n",
       "⎣  u₂(t)  ⎦"
      ]
     },
     "execution_count": 14,
     "metadata": {},
     "output_type": "execute_result"
    }
   ],
   "source": [
    "w = Matrix([u1.diff(), u2])\n",
    "w"
   ]
  },
  {
   "cell_type": "code",
   "execution_count": 15,
   "metadata": {},
   "outputs": [
    {
     "data": {
      "text/latex": [
       "$$\\left[\\begin{matrix}c_{\\theta} & - \\operatorname{u_{1}} s_{\\theta}\\\\s_{\\theta} & \\operatorname{u_{1}} c_{\\theta}\\end{matrix}\\right]$$"
      ],
      "text/plain": [
       "⎡cos(θ(t))  -u₁(t)⋅sin(θ(t))⎤\n",
       "⎢                           ⎥\n",
       "⎣sin(θ(t))  u₁(t)⋅cos(θ(t)) ⎦"
      ]
     },
     "execution_count": 15,
     "metadata": {},
     "output_type": "execute_result"
    }
   ],
   "source": [
    "# again, to find this matrix we can do it like this\n",
    "D_qu1 = ddh.jacobian(w)\n",
    "D_qu1"
   ]
  },
  {
   "cell_type": "code",
   "execution_count": null,
   "metadata": {},
   "outputs": [],
   "source": []
  },
  {
   "cell_type": "code",
   "execution_count": null,
   "metadata": {},
   "outputs": [],
   "source": []
  }
 ],
 "metadata": {
  "kernelspec": {
   "display_name": "Python 3 (ipykernel)",
   "language": "python",
   "name": "python3"
  },
  "language_info": {
   "codemirror_mode": {
    "name": "ipython",
    "version": 3
   },
   "file_extension": ".py",
   "mimetype": "text/x-python",
   "name": "python",
   "nbconvert_exporter": "python",
   "pygments_lexer": "ipython3",
   "version": "3.13.2"
  }
 },
 "nbformat": 4,
 "nbformat_minor": 4
}
